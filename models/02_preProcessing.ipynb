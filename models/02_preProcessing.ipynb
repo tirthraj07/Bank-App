{
 "cells": [
  {
   "cell_type": "code",
   "execution_count": 46,
   "id": "3dfdee05-7b28-47ec-994c-86d556b5a3df",
   "metadata": {},
   "outputs": [],
   "source": [
    "import pandas as pd\n",
    "from DatasetsDictionaries.DATASET01 import *"
   ]
  },
  {
   "cell_type": "code",
   "execution_count": 47,
   "id": "06fa34f1-97c9-4d28-8b96-1c4e1e773c12",
   "metadata": {},
   "outputs": [],
   "source": [
    "complaintTypes = [accountComplaints,appComplaints,basicComplaints,cardComplaints,commComplaints,loadComplaints, webComplaints]"
   ]
  },
  {
   "cell_type": "code",
   "execution_count": 63,
   "id": "ca96c01e-9dc4-4aa5-a2c7-600863b52ee0",
   "metadata": {},
   "outputs": [],
   "source": [
    "def makeDataFrame(complaints):\n",
    "    df = pd.DataFrame(complaints)\n",
    "    df = df.transpose()\n",
    "    return df"
   ]
  },
  {
   "cell_type": "code",
   "execution_count": 71,
   "id": "cc3670c8-dab9-44a6-b6fd-b1eac2b597aa",
   "metadata": {},
   "outputs": [],
   "source": [
    "accDf = makeDataFrame(accountComplaints)\n",
    "appDf = makeDataFrame(appComplaints)\n",
    "basicDf = makeDataFrame(basicComplaints)\n",
    "cardDf = makeDataFrame(cardComplaints)\n",
    "commDf = makeDataFrame(commComplaints)\n",
    "loadDf = makeDataFrame(loadComplaints)\n",
    "webDf = makeDataFrame(webComplaints)"
   ]
  },
  {
   "cell_type": "code",
   "execution_count": 74,
   "id": "bc2c9ce0-3c83-4507-bad8-312705936e65",
   "metadata": {},
   "outputs": [],
   "source": [
    "dataframes = [accDf,appDf,basicDf,cardDf,commDf,loadDf,webDf]"
   ]
  },
  {
   "cell_type": "code",
   "execution_count": 75,
   "id": "bffe0ac2-c5e2-4c47-8809-3b45d1c01897",
   "metadata": {},
   "outputs": [
    {
     "data": {
      "text/plain": [
       "(222, 2)"
      ]
     },
     "execution_count": 75,
     "metadata": {},
     "output_type": "execute_result"
    }
   ],
   "source": [
    "newdf = pd.concat(dataframes)\n",
    "newdf.head()\n",
    "newdf.shape"
   ]
  },
  {
   "cell_type": "code",
   "execution_count": 76,
   "id": "ed389667-9609-464e-b587-374702ad8bd0",
   "metadata": {},
   "outputs": [
    {
     "data": {
      "text/html": [
       "<div>\n",
       "<style scoped>\n",
       "    .dataframe tbody tr th:only-of-type {\n",
       "        vertical-align: middle;\n",
       "    }\n",
       "\n",
       "    .dataframe tbody tr th {\n",
       "        vertical-align: top;\n",
       "    }\n",
       "\n",
       "    .dataframe thead th {\n",
       "        text-align: right;\n",
       "    }\n",
       "</style>\n",
       "<table border=\"1\" class=\"dataframe\">\n",
       "  <thead>\n",
       "    <tr style=\"text-align: right;\">\n",
       "      <th></th>\n",
       "      <th>issue</th>\n",
       "      <th>urgency</th>\n",
       "    </tr>\n",
       "  </thead>\n",
       "  <tbody>\n",
       "    <tr>\n",
       "      <th>0</th>\n",
       "      <td>Upon reviewing my bank account statement, I no...</td>\n",
       "      <td>0.95</td>\n",
       "    </tr>\n",
       "    <tr>\n",
       "      <th>1</th>\n",
       "      <td>A discrepancy has emerged in my bank account b...</td>\n",
       "      <td>0.88</td>\n",
       "    </tr>\n",
       "    <tr>\n",
       "      <th>2</th>\n",
       "      <td>An unexpected overdraft fee appeared on my ban...</td>\n",
       "      <td>0.91</td>\n",
       "    </tr>\n",
       "    <tr>\n",
       "      <th>3</th>\n",
       "      <td>I received a notification about a large incomi...</td>\n",
       "      <td>0.94</td>\n",
       "    </tr>\n",
       "    <tr>\n",
       "      <th>4</th>\n",
       "      <td>A distressing situation unfolded when I discov...</td>\n",
       "      <td>0.96</td>\n",
       "    </tr>\n",
       "  </tbody>\n",
       "</table>\n",
       "</div>"
      ],
      "text/plain": [
       "                                               issue urgency\n",
       "0  Upon reviewing my bank account statement, I no...    0.95\n",
       "1  A discrepancy has emerged in my bank account b...    0.88\n",
       "2  An unexpected overdraft fee appeared on my ban...    0.91\n",
       "3  I received a notification about a large incomi...    0.94\n",
       "4  A distressing situation unfolded when I discov...    0.96"
      ]
     },
     "execution_count": 76,
     "metadata": {},
     "output_type": "execute_result"
    }
   ],
   "source": [
    "newdf.head()"
   ]
  },
  {
   "cell_type": "code",
   "execution_count": 77,
   "id": "ac33ee70-df78-48d7-884b-85f18215e6ce",
   "metadata": {},
   "outputs": [],
   "source": [
    "newdf.to_csv(\"DATASET02_size:222.csv\")"
   ]
  }
 ],
 "metadata": {
  "kernelspec": {
   "display_name": "Python 3 (ipykernel)",
   "language": "python",
   "name": "python3"
  },
  "language_info": {
   "codemirror_mode": {
    "name": "ipython",
    "version": 3
   },
   "file_extension": ".py",
   "mimetype": "text/x-python",
   "name": "python",
   "nbconvert_exporter": "python",
   "pygments_lexer": "ipython3",
   "version": "3.11.1"
  }
 },
 "nbformat": 4,
 "nbformat_minor": 5
}
