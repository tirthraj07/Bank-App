{
 "cells": [
  {
   "cell_type": "code",
   "execution_count": 2,
   "id": "20e185cb-4aa5-4385-9c75-cfc3b3a4cfa3",
   "metadata": {},
   "outputs": [],
   "source": [
    "import pandas as pd\n",
    "import tensorflow as tf\n",
    "from tensorflow.keras.optimizers.legacy import Adam\n",
    "from sklearn.model_selection import train_test_split\n",
    "from tensorflow.keras.models import Sequential\n",
    "from tensorflow.keras.layers import Dense"
   ]
  },
  {
   "cell_type": "code",
   "execution_count": 3,
   "id": "4003e3b3-9178-4508-9eb4-1793d6c31d67",
   "metadata": {},
   "outputs": [],
   "source": [
    "data = pd.read_csv(\"csvFiles/DATASET02_size_222.csv\")\n",
    "data.drop(columns = ['Unnamed: 0'], inplace = True)\n",
    "X = data['issue']\n",
    "y = data['urgency']"
   ]
  },
  {
   "cell_type": "code",
   "execution_count": 4,
   "id": "800b0be5-bc56-44f9-8ebb-07ddb44c8d6f",
   "metadata": {},
   "outputs": [],
   "source": [
    "from sklearn.feature_extraction.text import TfidfVectorizer\n",
    "vectorizer = TfidfVectorizer(max_features = 600)\n",
    "X_vectorized = vectorizer.fit_transform(X)"
   ]
  },
  {
   "cell_type": "code",
   "execution_count": 5,
   "id": "f9f17e52-cdfc-4035-994e-106b4d77da41",
   "metadata": {},
   "outputs": [],
   "source": [
    "X_dense = X_vectorized.toarray()"
   ]
  },
  {
   "cell_type": "code",
   "execution_count": 6,
   "id": "4eeb6bfa-d265-492f-9cf9-76020325aa72",
   "metadata": {},
   "outputs": [],
   "source": [
    "X_train, X_test, y_train, y_test = train_test_split(X_dense, y, test_size=0.2, random_state=42)"
   ]
  },
  {
   "cell_type": "code",
   "execution_count": 13,
   "id": "65181fd9-1770-4ad8-bbe8-6f038a3c61ba",
   "metadata": {},
   "outputs": [
    {
     "name": "stdout",
     "output_type": "stream",
     "text": [
      "2/2 [==============================] - 0s 862us/step\n",
      "0.8448486299553101\n",
      "0.007863270640562223\n",
      "0.1336595662382269\n"
     ]
    }
   ],
   "source": [
    "model = Sequential()\n",
    "model.add(Dense(128, input_dim=X_train.shape[1], activation='sigmoid'))\n",
    "model.add(Dense(64, activation='sigmoid'))\n",
    "model.add(Dense(64, activation='sigmoid'))\n",
    "model.add(Dense(1))\n",
    "\n",
    "model.compile(optimizer=Adam(learning_rate = 0.04), loss='mean_squared_error')\n",
    "model.fit(X_train, y_train, epochs=35, batch_size=16, verbose=0)\n",
    "\n",
    "y_pred = model.predict(X_test)\n",
    "\n",
    "from sklearn.metrics import mean_squared_error, mean_absolute_percentage_error, r2_score, mean_absolute_error\n",
    "print(r2_score(y_test, y_pred))\n",
    "print(mean_squared_error(y_test, y_pred))\n",
    "print(mean_absolute_percentage_error(y_test, y_pred))"
   ]
  },
  {
   "cell_type": "code",
   "execution_count": 14,
   "id": "18132b83-e460-4c2e-af4a-b6877bb0c75e",
   "metadata": {},
   "outputs": [
    {
     "name": "stdout",
     "output_type": "stream",
     "text": [
      "Model: \"sequential_6\"\n",
      "_________________________________________________________________\n",
      " Layer (type)                Output Shape              Param #   \n",
      "=================================================================\n",
      " dense_24 (Dense)            (None, 128)               76928     \n",
      "                                                                 \n",
      " dense_25 (Dense)            (None, 64)                8256      \n",
      "                                                                 \n",
      " dense_26 (Dense)            (None, 64)                4160      \n",
      "                                                                 \n",
      " dense_27 (Dense)            (None, 1)                 65        \n",
      "                                                                 \n",
      "=================================================================\n",
      "Total params: 89409 (349.25 KB)\n",
      "Trainable params: 89409 (349.25 KB)\n",
      "Non-trainable params: 0 (0.00 Byte)\n",
      "_________________________________________________________________\n"
     ]
    }
   ],
   "source": [
    "model.summary()"
   ]
  },
  {
   "cell_type": "code",
   "execution_count": 23,
   "id": "e9e8ff22-65c3-4a2d-96ff-a39fcfa9eb34",
   "metadata": {},
   "outputs": [
    {
     "name": "stdout",
     "output_type": "stream",
     "text": [
      "1/1 [==============================] - 0s 14ms/step\n",
      "[[0.75239134]]\n"
     ]
    }
   ],
   "source": [
    "import numpy as np\n",
    "complaint = [\"Extremely urgent to address the unauthorised transaction of 100 dollars from my bank account yesterday. Did not receive any refund\"]\n",
    "\n",
    "#DO NOT USE fit_transform!!!!!!You need to transform the new data on previously fit vectorizer\n",
    "\n",
    "complaint_vec = vectorizer.transform(complaint)\n",
    "complaint_vec = complaint_vec.toarray()\n",
    "urgencyval = model.predict(complaint_vec)\n",
    "print(urgencyval)"
   ]
  },
  {
   "cell_type": "code",
   "execution_count": 11,
   "id": "e4775a4a-29df-4620-99f4-8069d83bcd39",
   "metadata": {},
   "outputs": [
    {
     "name": "stdout",
     "output_type": "stream",
     "text": [
      "1/1 [==============================] - 0s 13ms/step\n",
      "1/1 [==============================] - 0s 10ms/step\n",
      "1/1 [==============================] - 0s 7ms/step\n",
      "1/1 [==============================] - 0s 8ms/step\n",
      "1/1 [==============================] - 0s 7ms/step\n",
      "[[['I have noticed an unauthorized transaction on my account dated May 10th for $50. This transaction was not made by me, and I am very concerned about the security of my account. I need this resolved immediately as it is affecting my balance and causing me significant stress. Additionally, I would like to know what measures are being taken to prevent such incidents in the future.'], array([[0.8539581]], dtype=float32)], [['My credit card payment due date was suddenly changed without any notification. This caused me to miss the payment, which I believe is unfair and needs to be rectified. I have always been prompt with my payments, and this sudden change has disrupted my financial planning. Please address this issue regarding the expiry of my card, as it was not my fault.'], array([[0.8328156]], dtype=float32)], [['I have been charged twice for the same purchase at your store on April 25th. This has resulted in an unnecessary deduction from my account, and I am now short on funds for other expenses. Please refund the duplicate charge as soon as possible and confirm that this will not happen again. I also suggest reviewing your payment processing system to avoid such errors.'], array([[0.8988212]], dtype=float32)], [['I received my monthly statement, and there is a misprint in my name. It is spelled incorrectly and should be corrected in your records. This kind of error can lead to issues with identity verification and other banking services. Please update your records and send me a corrected statement. I would appreciate confirmation once this is done.'], array([[0.67656535]], dtype=float32)], [['There is a typo in my passbook for the entry on March 3rd. It shows the wrong transaction description, which is a minor issue but needs correction for accurate record-keeping. Maintaining correct records is important for my financial tracking. Please update the passbook entry and send me a corrected version. This will help me keep my financial documents in order.'], array([[0.7136923]], dtype=float32)]]\n"
     ]
    }
   ],
   "source": [
    "#different urgency complaints\n",
    "complaints = [\n",
    "    [\"I have noticed an unauthorized transaction on my account dated May 10th for $50. This transaction was not made by me, and I am very concerned about the security of my account. I need this resolved immediately as it is affecting my balance and causing me significant stress. Additionally, I would like to know what measures are being taken to prevent such incidents in the future.\"],\n",
    "    [\"My credit card payment due date was suddenly changed without any notification. This caused me to miss the payment, which I believe is unfair and needs to be rectified. I have always been prompt with my payments, and this sudden change has disrupted my financial planning. Please address this issue regarding the expiry of my card, as it was not my fault.\"],\n",
    "    [\"I have been charged twice for the same purchase at your store on April 25th. This has resulted in an unnecessary deduction from my account, and I am now short on funds for other expenses. Please refund the duplicate charge as soon as possible and confirm that this will not happen again. I also suggest reviewing your payment processing system to avoid such errors.\"],\n",
    "    [\"I received my monthly statement, and there is a misprint in my name. It is spelled incorrectly and should be corrected in your records. This kind of error can lead to issues with identity verification and other banking services. Please update your records and send me a corrected statement. I would appreciate confirmation once this is done.\"],\n",
    "    [\"There is a typo in my passbook for the entry on March 3rd. It shows the wrong transaction description, which is a minor issue but needs correction for accurate record-keeping. Maintaining correct records is important for my financial tracking. Please update the passbook entry and send me a corrected version. This will help me keep my financial documents in order.\"]\n",
    "]\n",
    "\n",
    "#all 5 are complaints related to unauth transations\n",
    "# complaints = [\n",
    "#     [\"I noticed an unauthorized transaction on my account yesterday for $200. I didn't make this purchase and need it reversed immediately. This is causing me a lot of anxiety, and I hope it gets resolved soon.\"],\n",
    "#     [\"There is a suspicious charge of $150 on my account from a vendor I've never heard of. I demand an immediate investigation into this matter. How can such a transaction even go through without my authorization?\"],\n",
    "#     [\"I just saw an unfamiliar transaction on my bank statement for $75. I certainly did not authorize this. Can someone please look into this and get back to me with the next steps?\"],\n",
    "#     [\"I am writing to report a fraudulent charge of $500 on my credit card. This transaction is not mine, and I require urgent assistance to have it removed. Additionally, please ensure my account's security to prevent future occurrences.\"],\n",
    "#     [\"There has been an unauthorized transaction on my account for $300. I am very concerned about how this happened and insist on a thorough investigation. Please provide me with updates on the progress and steps being taken to secure my account.\"]\n",
    "# ]\n",
    "\n",
    "\n",
    "sortedComplaints = []\n",
    "for complaint in complaints:\n",
    "    complaint_vec = vectorizer.transform(complaint)\n",
    "    complaint_vec = complaint_vec.toarray()\n",
    "    urgencyval = model.predict(complaint_vec)\n",
    "    sortedComplaints.append([complaint, urgencyval])\n",
    "print(sortedComplaints)"
   ]
  }
 ],
 "metadata": {
  "kernelspec": {
   "display_name": "Python 3 (ipykernel)",
   "language": "python",
   "name": "python3"
  },
  "language_info": {
   "codemirror_mode": {
    "name": "ipython",
    "version": 3
   },
   "file_extension": ".py",
   "mimetype": "text/x-python",
   "name": "python",
   "nbconvert_exporter": "python",
   "pygments_lexer": "ipython3",
   "version": "3.11.1"
  }
 },
 "nbformat": 4,
 "nbformat_minor": 5
}
